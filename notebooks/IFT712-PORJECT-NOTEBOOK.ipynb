{
 "cells": [
  {
   "cell_type": "markdown",
   "metadata": {},
   "source": [
    "# IFT712 Projet Fin de Session\n",
    "\n",
    "------------------------------\n",
    "MAHDI AIT LHAJ LOUTFI (aitm2302)  \n",
    "YOVAN TURCOTTE (tury1903)\n",
    "\n"
   ]
  },
  {
   "cell_type": "markdown",
   "metadata": {},
   "source": [
    "## Visualisation des données et analyse des résultats :\n",
    "Dans ce Notebook, on va analyse les resultas de l'entrainement. Dans le fond on va choisir le modele avec la meilleur performance, et le tester sur les donnees de test."
   ]
  },
  {
   "cell_type": "code",
   "execution_count": 2,
   "metadata": {},
   "outputs": [],
   "source": [
    "import json\n",
    "import matplotlib.pyplot as plt\n",
    "import pandas as pd\n",
    "import numpy as np\n",
    "import sys\n",
    "sys.path.append(\"..\")\n",
    "#-------for Pre-Processing----\n",
    "from sklearn.decomposition import PCA\n",
    "from sklearn.preprocessing import (StandardScaler, MinMaxScaler)\n",
    "from src.DataProcesser.Processer import DataProcesser\n",
    "#------------------------------\n",
    "import src.Manager\n",
    "from sklearn.metrics import confusion_matrix\n",
    "import seaborn as sns\n",
    "%reload_ext autoreload\n",
    "%autoreload 2\n"
   ]
  },
  {
   "cell_type": "markdown",
   "metadata": {},
   "source": [
    "## Charger les données :\n",
    "Si la cellule suivante marche, ca veut dire que l'extraction des données marche tres bien."
   ]
  },
  {
   "cell_type": "code",
   "execution_count": 3,
   "metadata": {},
   "outputs": [
    {
     "name": "stdout",
     "output_type": "stream",
     "text": [
      "The total dataset has 990 observations with dimentionality 192.\n"
     ]
    },
    {
     "data": {
      "text/html": [
       "<div>\n",
       "<style scoped>\n",
       "    .dataframe tbody tr th:only-of-type {\n",
       "        vertical-align: middle;\n",
       "    }\n",
       "\n",
       "    .dataframe tbody tr th {\n",
       "        vertical-align: top;\n",
       "    }\n",
       "\n",
       "    .dataframe thead th {\n",
       "        text-align: right;\n",
       "    }\n",
       "</style>\n",
       "<table border=\"1\" class=\"dataframe\">\n",
       "  <thead>\n",
       "    <tr style=\"text-align: right;\">\n",
       "      <th></th>\n",
       "      <th>margin1</th>\n",
       "      <th>margin2</th>\n",
       "      <th>margin3</th>\n",
       "      <th>margin4</th>\n",
       "      <th>margin5</th>\n",
       "      <th>margin6</th>\n",
       "      <th>margin7</th>\n",
       "      <th>margin8</th>\n",
       "      <th>margin9</th>\n",
       "      <th>margin10</th>\n",
       "      <th>...</th>\n",
       "      <th>texture55</th>\n",
       "      <th>texture56</th>\n",
       "      <th>texture57</th>\n",
       "      <th>texture58</th>\n",
       "      <th>texture59</th>\n",
       "      <th>texture60</th>\n",
       "      <th>texture61</th>\n",
       "      <th>texture62</th>\n",
       "      <th>texture63</th>\n",
       "      <th>texture64</th>\n",
       "    </tr>\n",
       "    <tr>\n",
       "      <th>id</th>\n",
       "      <th></th>\n",
       "      <th></th>\n",
       "      <th></th>\n",
       "      <th></th>\n",
       "      <th></th>\n",
       "      <th></th>\n",
       "      <th></th>\n",
       "      <th></th>\n",
       "      <th></th>\n",
       "      <th></th>\n",
       "      <th></th>\n",
       "      <th></th>\n",
       "      <th></th>\n",
       "      <th></th>\n",
       "      <th></th>\n",
       "      <th></th>\n",
       "      <th></th>\n",
       "      <th></th>\n",
       "      <th></th>\n",
       "      <th></th>\n",
       "      <th></th>\n",
       "    </tr>\n",
       "  </thead>\n",
       "  <tbody>\n",
       "    <tr>\n",
       "      <th>1</th>\n",
       "      <td>0.007812</td>\n",
       "      <td>0.023438</td>\n",
       "      <td>0.023438</td>\n",
       "      <td>0.003906</td>\n",
       "      <td>0.011719</td>\n",
       "      <td>0.009766</td>\n",
       "      <td>0.027344</td>\n",
       "      <td>0.0</td>\n",
       "      <td>0.001953</td>\n",
       "      <td>0.033203</td>\n",
       "      <td>...</td>\n",
       "      <td>0.007812</td>\n",
       "      <td>0.000000</td>\n",
       "      <td>0.002930</td>\n",
       "      <td>0.002930</td>\n",
       "      <td>0.035156</td>\n",
       "      <td>0.0</td>\n",
       "      <td>0.0</td>\n",
       "      <td>0.004883</td>\n",
       "      <td>0.000000</td>\n",
       "      <td>0.025391</td>\n",
       "    </tr>\n",
       "    <tr>\n",
       "      <th>2</th>\n",
       "      <td>0.005859</td>\n",
       "      <td>0.000000</td>\n",
       "      <td>0.031250</td>\n",
       "      <td>0.015625</td>\n",
       "      <td>0.025391</td>\n",
       "      <td>0.001953</td>\n",
       "      <td>0.019531</td>\n",
       "      <td>0.0</td>\n",
       "      <td>0.000000</td>\n",
       "      <td>0.007812</td>\n",
       "      <td>...</td>\n",
       "      <td>0.000977</td>\n",
       "      <td>0.000000</td>\n",
       "      <td>0.000000</td>\n",
       "      <td>0.000977</td>\n",
       "      <td>0.023438</td>\n",
       "      <td>0.0</td>\n",
       "      <td>0.0</td>\n",
       "      <td>0.000977</td>\n",
       "      <td>0.039062</td>\n",
       "      <td>0.022461</td>\n",
       "    </tr>\n",
       "    <tr>\n",
       "      <th>3</th>\n",
       "      <td>0.005859</td>\n",
       "      <td>0.009766</td>\n",
       "      <td>0.019531</td>\n",
       "      <td>0.007812</td>\n",
       "      <td>0.003906</td>\n",
       "      <td>0.005859</td>\n",
       "      <td>0.068359</td>\n",
       "      <td>0.0</td>\n",
       "      <td>0.000000</td>\n",
       "      <td>0.044922</td>\n",
       "      <td>...</td>\n",
       "      <td>0.154300</td>\n",
       "      <td>0.000000</td>\n",
       "      <td>0.005859</td>\n",
       "      <td>0.000977</td>\n",
       "      <td>0.007812</td>\n",
       "      <td>0.0</td>\n",
       "      <td>0.0</td>\n",
       "      <td>0.000000</td>\n",
       "      <td>0.020508</td>\n",
       "      <td>0.002930</td>\n",
       "    </tr>\n",
       "    <tr>\n",
       "      <th>5</th>\n",
       "      <td>0.000000</td>\n",
       "      <td>0.003906</td>\n",
       "      <td>0.023438</td>\n",
       "      <td>0.005859</td>\n",
       "      <td>0.021484</td>\n",
       "      <td>0.019531</td>\n",
       "      <td>0.023438</td>\n",
       "      <td>0.0</td>\n",
       "      <td>0.013672</td>\n",
       "      <td>0.017578</td>\n",
       "      <td>...</td>\n",
       "      <td>0.000000</td>\n",
       "      <td>0.000977</td>\n",
       "      <td>0.000000</td>\n",
       "      <td>0.000000</td>\n",
       "      <td>0.020508</td>\n",
       "      <td>0.0</td>\n",
       "      <td>0.0</td>\n",
       "      <td>0.017578</td>\n",
       "      <td>0.000000</td>\n",
       "      <td>0.047852</td>\n",
       "    </tr>\n",
       "    <tr>\n",
       "      <th>6</th>\n",
       "      <td>0.005859</td>\n",
       "      <td>0.003906</td>\n",
       "      <td>0.048828</td>\n",
       "      <td>0.009766</td>\n",
       "      <td>0.013672</td>\n",
       "      <td>0.015625</td>\n",
       "      <td>0.005859</td>\n",
       "      <td>0.0</td>\n",
       "      <td>0.000000</td>\n",
       "      <td>0.005859</td>\n",
       "      <td>...</td>\n",
       "      <td>0.096680</td>\n",
       "      <td>0.000000</td>\n",
       "      <td>0.021484</td>\n",
       "      <td>0.000000</td>\n",
       "      <td>0.000000</td>\n",
       "      <td>0.0</td>\n",
       "      <td>0.0</td>\n",
       "      <td>0.000000</td>\n",
       "      <td>0.000000</td>\n",
       "      <td>0.031250</td>\n",
       "    </tr>\n",
       "  </tbody>\n",
       "</table>\n",
       "<p>5 rows × 192 columns</p>\n",
       "</div>"
      ],
      "text/plain": [
       "     margin1   margin2   margin3   margin4   margin5   margin6   margin7  \\\n",
       "id                                                                         \n",
       "1   0.007812  0.023438  0.023438  0.003906  0.011719  0.009766  0.027344   \n",
       "2   0.005859  0.000000  0.031250  0.015625  0.025391  0.001953  0.019531   \n",
       "3   0.005859  0.009766  0.019531  0.007812  0.003906  0.005859  0.068359   \n",
       "5   0.000000  0.003906  0.023438  0.005859  0.021484  0.019531  0.023438   \n",
       "6   0.005859  0.003906  0.048828  0.009766  0.013672  0.015625  0.005859   \n",
       "\n",
       "    margin8   margin9  margin10  ...  texture55  texture56  texture57  \\\n",
       "id                               ...                                    \n",
       "1       0.0  0.001953  0.033203  ...   0.007812   0.000000   0.002930   \n",
       "2       0.0  0.000000  0.007812  ...   0.000977   0.000000   0.000000   \n",
       "3       0.0  0.000000  0.044922  ...   0.154300   0.000000   0.005859   \n",
       "5       0.0  0.013672  0.017578  ...   0.000000   0.000977   0.000000   \n",
       "6       0.0  0.000000  0.005859  ...   0.096680   0.000000   0.021484   \n",
       "\n",
       "    texture58  texture59  texture60  texture61  texture62  texture63  \\\n",
       "id                                                                     \n",
       "1    0.002930   0.035156        0.0        0.0   0.004883   0.000000   \n",
       "2    0.000977   0.023438        0.0        0.0   0.000977   0.039062   \n",
       "3    0.000977   0.007812        0.0        0.0   0.000000   0.020508   \n",
       "5    0.000000   0.020508        0.0        0.0   0.017578   0.000000   \n",
       "6    0.000000   0.000000        0.0        0.0   0.000000   0.000000   \n",
       "\n",
       "    texture64  \n",
       "id             \n",
       "1    0.025391  \n",
       "2    0.022461  \n",
       "3    0.002930  \n",
       "5    0.047852  \n",
       "6    0.031250  \n",
       "\n",
       "[5 rows x 192 columns]"
      ]
     },
     "execution_count": 3,
     "metadata": {},
     "output_type": "execute_result"
    }
   ],
   "source": [
    "DP = DataProcesser(seed = 16082604)\n",
    "DP.importData(label_name = 'species')\n",
    "print(f\"The total dataset has {DP.df().shape[0]} observations with dimentionality {DP.df().shape[1]}.\")\n",
    "DP.df().head()"
   ]
  },
  {
   "cell_type": "markdown",
   "metadata": {},
   "source": [
    "## Organisation et distribution des données :\n",
    "1- On va premierement diviser les données d'entrainement,test et validation\n",
    "\n",
    "2- Faire un Sanity Check\n"
   ]
  },
  {
   "cell_type": "code",
   "execution_count": 4,
   "metadata": {},
   "outputs": [
    {
     "name": "stdout",
     "output_type": "stream",
     "text": [
      "Train + Validation dataset created\n"
     ]
    }
   ],
   "source": [
    "DP.split_data(test_ratio = 0.1)\n",
    "print(\"Train + Validation dataset created\")"
   ]
  },
  {
   "cell_type": "code",
   "execution_count": 5,
   "metadata": {},
   "outputs": [
    {
     "name": "stdout",
     "output_type": "stream",
     "text": [
      "Sanity Check Verified!\n"
     ]
    }
   ],
   "source": [
    "#Sanity Check\n",
    "#Verifier que toutes les classes du test set figurent dans les train + validation sets\n",
    "Diff = set(DP.labels_Test()) - set(DP.labels_Train()) #should be empty set\n",
    "if(Diff == set()):\n",
    "    print(\"Sanity Check Verified!\")\n",
    "else:\n",
    "    print(\"Sanity Check Verification Failed!\")\n",
    "    raise ValueError(\"There are no training observations for the classes : \"+ str(Diff))"
   ]
  },
  {
   "cell_type": "markdown",
   "metadata": {},
   "source": [
    "## Chargement de resultats"
   ]
  },
  {
   "cell_type": "code",
   "execution_count": 79,
   "metadata": {},
   "outputs": [
    {
     "name": "stdout",
     "output_type": "stream",
     "text": [
      "There are 5042 different models.\n"
     ]
    }
   ],
   "source": [
    "with open('../results/results.json') as f:\n",
    "    results = json.load(f)\n",
    "print(f'There are {len(results)} different models.')"
   ]
  },
  {
   "cell_type": "code",
   "execution_count": 80,
   "metadata": {},
   "outputs": [
    {
     "name": "stderr",
     "output_type": "stream",
     "text": [
      "<ipython-input-80-cc578c9384f3>:3: DeprecationWarning: `np.float` is a deprecated alias for the builtin `float`. To silence this warning, use `float` by itself. Doing this will not modify any behavior and is safe. If you specifically wanted the numpy scalar type, use `np.float64` here.\n",
      "Deprecated in NumPy 1.20; for more details and guidance: https://numpy.org/devdocs/release/1.20.0-notes.html#deprecations\n",
      "  precision = np.float(results[key]['results']['Precision'])\n",
      "<ipython-input-80-cc578c9384f3>:4: DeprecationWarning: `np.float` is a deprecated alias for the builtin `float`. To silence this warning, use `float` by itself. Doing this will not modify any behavior and is safe. If you specifically wanted the numpy scalar type, use `np.float64` here.\n",
      "Deprecated in NumPy 1.20; for more details and guidance: https://numpy.org/devdocs/release/1.20.0-notes.html#deprecations\n",
      "  recall = np.float(results[key]['results']['Recall'])\n"
     ]
    }
   ],
   "source": [
    "#Calculating FScore\n",
    "for key in results:\n",
    "    precision = np.float(results[key]['results']['Precision'])\n",
    "    recall = np.float(results[key]['results']['Recall'])\n",
    "    if(recall == 0.0 or precision == 0.0):\n",
    "        results[key]['results']['FScore'] = '0.000'\n",
    "    else:\n",
    "        results[key]['results']['FScore'] = str(2.0 / (1.0 / precision + 1.0 / recall))[:5]"
   ]
  },
  {
   "cell_type": "markdown",
   "metadata": {},
   "source": [
    "## Chercher le meilleur modele pour chaque classifieur"
   ]
  },
  {
   "cell_type": "code",
   "execution_count": 81,
   "metadata": {},
   "outputs": [
    {
     "name": "stdout",
     "output_type": "stream",
     "text": [
      "The classifier types are: {'LogisticRegressionModel', 'KernelModel', 'GenerativeModel'}\n"
     ]
    }
   ],
   "source": [
    "# Unique Classifiers type\n",
    "classifiers = set(map(lambda x: results[x]['pipeline']['ClassificationParams']['classifier'],results))\n",
    "\n",
    "#Get results for each classifier\n",
    "classifierResults = {classifier:[] for classifier in classifiers}\n",
    "for result in results.values():\n",
    "    classifier = result['pipeline']['ClassificationParams']['classifier']\n",
    "    classifierResults[classifier].append(result)\n",
    "    \n",
    "print('The classifier types are:', classifiers)"
   ]
  },
  {
   "cell_type": "code",
   "execution_count": 82,
   "metadata": {},
   "outputs": [],
   "source": [
    "# For each classifier type, sort by best results\n",
    "sortedClassifiersBestAccuracy = {classifier:sorted( classifierResults[classifier], \n",
    "                                                    key = lambda x: x['results']['Accuracy'],\n",
    "                                                    reverse = True )[0] for classifier in classifiers}\n",
    "sortedClassifiersBestRecall   = {classifier:sorted( classifierResults[classifier], \n",
    "                                                    key = lambda x: x['results']['Recall'],\n",
    "                                                    reverse = True )[0] for classifier in classifiers}\n",
    "sortedClassifiersBestPrecision= {classifier:sorted( classifierResults[classifier], \n",
    "                                                    key = lambda x: x['results']['Precision'],\n",
    "                                                    reverse = True )[0] for classifier in classifiers}\n",
    "sortedClassifiersBestFScore   = {classifier:sorted( classifierResults[classifier], \n",
    "                                                    key = lambda x: x['results']['FScore'],\n",
    "                                                    reverse = True )[0] for classifier in classifiers}"
   ]
  },
  {
   "cell_type": "code",
   "execution_count": 83,
   "metadata": {},
   "outputs": [],
   "source": [
    "def pprintBestResults(bestModels,metric):\n",
    "    \"\"\"\n",
    "    Method that will nicely display the results\n",
    "    \n",
    "    \n",
    "    bestModels: best model for each classifier type\n",
    "    metric: str of Metric to be used.\n",
    "    \"\"\"\n",
    "    classifiers = set(bestModels)\n",
    "    DataManagerParams    = {classifier:bestModels[classifier]['pipeline']['DataPreProcessingParams']['cases'] \n",
    "                                                                                     for classifier in classifiers}\n",
    "    ClassificationParams = {classifier:bestModels[classifier]['pipeline']['ClassificationParams'] \n",
    "                                                                                     for classifier in classifiers}\n",
    "    metricResults = {classifier:bestModels[classifier]['results'][metric] for classifier in classifiers} \n",
    "          \n",
    "    columns = ['PreProcessing1', 'PreProcessing2', 'Hyperparams', metric]\n",
    "    df = pd.DataFrame(np.full((len(classifiers), 4), np.nan), columns = columns, index = classifiers)\n",
    "    for classifier in sorted(metricResults,key = lambda x: metricResults[x], reverse = True):\n",
    "        out = f\"For {classifier}, the model with the best {metric} of {metricResults[classifier]}\\n\\thas hyperparameters: \"\n",
    "        hyperparams = ClassificationParams[classifier] .copy()\n",
    "        del hyperparams['classifier']\n",
    "        hyperparams = [f'{hp}={str(hyperparams[hp])[:5]}' for hp in hyperparams]\n",
    "        preprocessing = [preprocess['method'] for preprocess in DataManagerParams[classifier]]\n",
    "        \n",
    "        \n",
    "        df.loc[classifier] = np.array([preprocessing[0],preprocessing[1],hyperparams,metricResults[classifier] ],dtype=object)\n",
    "        df.sort_values(metric,axis=0, inplace=True, ascending = False)\n",
    "    \n",
    "    #Printing\n",
    "    print('RESULTS')\n",
    "    print(df.drop('Hyperparams',axis=1).head())\n",
    "    print('\\nHYPERPARAMS')\n",
    "    print(df['Hyperparams'])"
   ]
  },
  {
   "cell_type": "markdown",
   "metadata": {},
   "source": [
    "### Accuracy"
   ]
  },
  {
   "cell_type": "code",
   "execution_count": 84,
   "metadata": {
    "scrolled": false
   },
   "outputs": [
    {
     "name": "stdout",
     "output_type": "stream",
     "text": [
      "RESULTS\n",
      "                         PreProcessing1 PreProcessing2 Accuracy\n",
      "KernelModel              StandardScaler  LDA            0.984  \n",
      "LogisticRegressionModel  Normalize       LDA            0.978  \n",
      "GenerativeModel          StandardScaler  LDA            0.811  \n",
      "\n",
      "HYPERPARAMS\n",
      "KernelModel                [alpha=1e-09, kernel=rbf, gamma=0.002]                        \n",
      "LogisticRegressionModel    [solver=libli, random_state=0, penalty=l2, tol=0.000, C=78.47]\n",
      "GenerativeModel            []                                                            \n",
      "Name: Hyperparams, dtype: object\n"
     ]
    }
   ],
   "source": [
    "pprintBestResults(sortedClassifiersBestAccuracy, 'Accuracy')"
   ]
  },
  {
   "cell_type": "markdown",
   "metadata": {},
   "source": [
    "### Precision"
   ]
  },
  {
   "cell_type": "code",
   "execution_count": 90,
   "metadata": {},
   "outputs": [
    {
     "name": "stdout",
     "output_type": "stream",
     "text": [
      "RESULTS\n",
      "                         PreProcessing1 PreProcessing2 Precision\n",
      "KernelModel              Normalize       LDA            0.986   \n",
      "LogisticRegressionModel  Normalize       LDA            0.979   \n",
      "GenerativeModel          StandardScaler  LDA            0.893   \n",
      "\n",
      "HYPERPARAMS\n",
      "KernelModel                [alpha=0.022, kernel=rbf, gamma=0.067]                        \n",
      "LogisticRegressionModel    [solver=libli, random_state=0, penalty=l2, tol=0.000, C=78.47]\n",
      "GenerativeModel            []                                                            \n",
      "Name: Hyperparams, dtype: object\n"
     ]
    }
   ],
   "source": [
    "pprintBestResults(sortedClassifiersBestPrecision, 'Precision')"
   ]
  },
  {
   "cell_type": "markdown",
   "metadata": {},
   "source": [
    "### Recall"
   ]
  },
  {
   "cell_type": "code",
   "execution_count": 91,
   "metadata": {},
   "outputs": [
    {
     "name": "stdout",
     "output_type": "stream",
     "text": [
      "RESULTS\n",
      "                         PreProcessing1 PreProcessing2 Recall\n",
      "KernelModel              Normalize       LDA            0.984\n",
      "LogisticRegressionModel  Normalize       LDA            0.977\n",
      "GenerativeModel          StandardScaler  LDA            0.779\n",
      "\n",
      "HYPERPARAMS\n",
      "KernelModel                [alpha=0.000, kernel=rbf, gamma=0.007]                        \n",
      "LogisticRegressionModel    [solver=libli, random_state=0, penalty=l2, tol=0.000, C=78.47]\n",
      "GenerativeModel            []                                                            \n",
      "Name: Hyperparams, dtype: object\n"
     ]
    }
   ],
   "source": [
    "pprintBestResults(sortedClassifiersBestRecall, 'Recall')"
   ]
  },
  {
   "cell_type": "markdown",
   "metadata": {},
   "source": [
    "### F1Score"
   ]
  },
  {
   "cell_type": "code",
   "execution_count": 92,
   "metadata": {},
   "outputs": [
    {
     "name": "stdout",
     "output_type": "stream",
     "text": [
      "RESULTS\n",
      "                         PreProcessing1 PreProcessing2 FScore\n",
      "KernelModel              Normalize       LDA            0.984\n",
      "LogisticRegressionModel  Normalize       LDA            0.977\n",
      "GenerativeModel          StandardScaler  LDA            0.832\n",
      "\n",
      "HYPERPARAMS\n",
      "KernelModel                [alpha=0.000, kernel=rbf, gamma=0.007]                        \n",
      "LogisticRegressionModel    [solver=libli, random_state=0, penalty=l2, tol=0.000, C=78.47]\n",
      "GenerativeModel            []                                                            \n",
      "Name: Hyperparams, dtype: object\n"
     ]
    }
   ],
   "source": [
    "pprintBestResults(sortedClassifiersBestFScore, 'FScore')"
   ]
  },
  {
   "cell_type": "markdown",
   "metadata": {},
   "source": [
    "### Modèle finale choisie :\n",
    "Classifier: SVM  \n",
    "Hyperparameters:  \n",
    "C=1.623,\n",
    "kernel=linear,\n",
    "degree=2,\n",
    "gamma=1e-09  \n"
   ]
  },
  {
   "cell_type": "code",
   "execution_count": 88,
   "metadata": {},
   "outputs": [
    {
     "data": {
      "text/plain": [
       "{'pipeline': {'DataPreProcessingParams': {'seed': 16082604,\n",
       "   'cases': [{'method': 'Normalize', 'hyperparams': {}},\n",
       "    {'method': 'LDA', 'hyperparams': {'n_components': 100}}]},\n",
       "  'ClassificationParams': {'classifier': 'KernelModel',\n",
       "   'alpha': 0.00024255310558892541,\n",
       "   'kernel': 'rbf',\n",
       "   'gamma': 0.0071349432492320355},\n",
       "  'StatisticsParams': ['Accuracy', 'Precision', 'Recall']},\n",
       " 'results': {'Accuracy': '0.984',\n",
       "  'Precision': '0.985',\n",
       "  'Recall': '0.984',\n",
       "  'FScore': '0.984'}}"
      ]
     },
     "execution_count": 88,
     "metadata": {},
     "output_type": "execute_result"
    }
   ],
   "source": [
    "sortedClassifiersBestFScore['KernelModel']"
   ]
  },
  {
   "cell_type": "markdown",
   "metadata": {},
   "source": [
    "## Results sur le Test Set\n",
    "For the best F-Score result of each classifier type, we will be running on the test set and printing the results"
   ]
  },
  {
   "cell_type": "code",
   "execution_count": 89,
   "metadata": {},
   "outputs": [
    {
     "name": "stdout",
     "output_type": "stream",
     "text": [
      "                         Accuracy  Precision  Recall  FScore\n",
      "LogisticRegressionModel  0.996     0.996      0.998   0.996 \n",
      "KernelModel              0.992     0.986      0.985   0.985 \n",
      "GenerativeModel          0.875     0.897      0.890   0.893 \n"
     ]
    }
   ],
   "source": [
    "testSetResultsClassifiers = {}\n",
    "for classifier in classifiers:\n",
    "    testSetResults = src.Manager.runTestSet(**sortedClassifiersBestFScore[classifier]['pipeline'])\n",
    "    precision = float(testSetResults['metrics']['Precision'])\n",
    "    recall = float(testSetResults['metrics']['Recall'])\n",
    "    if(recall == 0.0 or precision == 0.0):\n",
    "        testSetResults['metrics']['FScore'] = 0.0\n",
    "    else:\n",
    "        testSetResults['metrics']['FScore'] = str(2.0 / (1.0 / precision + 1.0 / recall))[:5]\n",
    "    testSetResultsClassifiers[classifier] = testSetResults\n",
    "\n",
    "#Printing sorted results\n",
    "resultsTestSet = pd.DataFrame(np.zeros((3, 4)), columns = ['Accuracy','Precision','Recall','FScore'],index = classifiers)\n",
    "for classifier in sorted(testSetResultsClassifiers, key = lambda x:testSetResultsClassifiers[x]['metrics']['FScore'],reverse = True): \n",
    "    for metric in testSetResultsClassifiers[classifier]['metrics']:\n",
    "        resultsTestSet.loc[classifier][metric] = testSetResultsClassifiers[classifier]['metrics'][metric]\n",
    "print(resultsTestSet.sort_values('FScore',axis=0,ascending = False))"
   ]
  },
  {
   "cell_type": "markdown",
   "metadata": {},
   "source": [
    "Surprising! The Logistic Regression has a better FScore than SVM, which was our previous winner. This result is meaning less as the chosen model has to stem from the cross-validation results but it is still interesting. All being said, the 0.001 difference between the two models is statistically insignificant. "
   ]
  },
  {
   "cell_type": "markdown",
   "metadata": {},
   "source": [
    "## Confusion Matrix with SVM model"
   ]
  },
  {
   "cell_type": "code",
   "execution_count": 53,
   "metadata": {},
   "outputs": [
    {
     "data": {
      "image/png": "[encoded data removed]",
      "text/plain": [
       "<Figure size 432x288 with 2 Axes>"
      ]
     },
     "metadata": {
      "needs_background": "light"
     },
     "output_type": "display_data"
    }
   ],
   "source": [
    "# Generating Confusion matrix\n",
    "testSetResults = src.Manager.runTestSet(**sortedClassifiersBestFScore['KernelModel']['pipeline'])\n",
    "predictions = testSetResults['predictions']\n",
    "truths = testSetResults['truths']\n",
    "sns.heatmap(confusion_matrix(truths,predictions))\n",
    "plt.xlabel('Predictions')\n",
    "plt.ylabel('Truths')\n",
    "plt.show()"
   ]
  },
  {
   "cell_type": "markdown",
   "metadata": {},
   "source": [
    "We get a very distinct straight diagonal, indicating we have good results. "
   ]
  },
  {
   "cell_type": "markdown",
   "metadata": {},
   "source": [
    "## Average results from preprocessing combination\n",
    "\n",
    "Our team is curious to see if preprocessing differently changed anything in the performance. We will verify below."
   ]
  },
  {
   "cell_type": "code",
   "execution_count": 54,
   "metadata": {},
   "outputs": [],
   "source": [
    "def pprintPreprocessing(cmds):\n",
    "    return \"&\".join([cmd['method'] for cmd in cmds])\n",
    "preprocessCombinations = set(map(lambda x: pprintPreprocessing(results[x]['pipeline']['DataPreProcessingParams']['cases']), results))\n",
    "\n",
    "#Attach all results to their preprocessing combination\n",
    "preprocess = {combination:[] for combination in preprocessCombinations}\n",
    "for trial in results:\n",
    "    preprocess[pprintPreprocessing(results[trial]['pipeline']['DataPreProcessingParams']['cases'])].append(results[trial]['results'])\n",
    "    \n",
    "#Calculate average of metrics for every preprocess combination\n",
    "preprocessAvg = {}\n",
    "for combination in preprocessCombinations:\n",
    "    avgDict = {}\n",
    "    for metric in preprocess[combination][0].keys():\n",
    "        avgDict[metric] = sum(float(d[metric]) for d in preprocess[combination]) / len(preprocess[combination])\n",
    "    preprocessAvg[combination] = avgDict"
   ]
  },
  {
   "cell_type": "code",
   "execution_count": 55,
   "metadata": {},
   "outputs": [],
   "source": [
    "def sortPreProcessingByMetric(metric):\n",
    "    preprocessingSorted = sorted(preprocessAvg, key = lambda x: preprocessAvg[x][metric], reverse = True)\n",
    "    out = pd.DataFrame([],columns = [metric], index = preprocessingSorted)\n",
    "    for combination in preprocessingSorted:\n",
    "        out.loc[combination] = preprocessAvg[combination][metric]\n",
    "    print(out)"
   ]
  },
  {
   "cell_type": "code",
   "execution_count": 56,
   "metadata": {},
   "outputs": [
    {
     "name": "stdout",
     "output_type": "stream",
     "text": [
      "                                  Accuracy\n",
      "StandardScaler&LDA                0.818932\n",
      "StandardScaler&FeatureExtraction  0.760677\n",
      "Normalize&LDA                     0.748855\n",
      "Normalize&FeatureExtraction       0.679332\n"
     ]
    }
   ],
   "source": [
    "sortPreProcessingByMetric('Accuracy')"
   ]
  },
  {
   "cell_type": "code",
   "execution_count": 57,
   "metadata": {},
   "outputs": [
    {
     "name": "stdout",
     "output_type": "stream",
     "text": [
      "                                 Precision\n",
      "StandardScaler&LDA                0.83118 \n",
      "StandardScaler&FeatureExtraction  0.766371\n",
      "Normalize&LDA                     0.755362\n",
      "Normalize&FeatureExtraction       0.68694 \n"
     ]
    }
   ],
   "source": [
    "sortPreProcessingByMetric('Precision')"
   ]
  },
  {
   "cell_type": "code",
   "execution_count": 58,
   "metadata": {},
   "outputs": [
    {
     "name": "stdout",
     "output_type": "stream",
     "text": [
      "                                    Recall\n",
      "StandardScaler&LDA                0.805459\n",
      "StandardScaler&FeatureExtraction  0.744719\n",
      "Normalize&LDA                     0.733687\n",
      "Normalize&FeatureExtraction       0.661848\n"
     ]
    }
   ],
   "source": [
    "sortPreProcessingByMetric('Recall')"
   ]
  },
  {
   "cell_type": "code",
   "execution_count": 59,
   "metadata": {},
   "outputs": [
    {
     "name": "stdout",
     "output_type": "stream",
     "text": [
      "                                    FScore\n",
      "StandardScaler&LDA                0.817264\n",
      "StandardScaler&FeatureExtraction  0.754444\n",
      "Normalize&LDA                     0.743331\n",
      "Normalize&FeatureExtraction       0.673043\n"
     ]
    }
   ],
   "source": [
    "sortPreProcessingByMetric('FScore')"
   ]
  },
  {
   "cell_type": "markdown",
   "metadata": {},
   "source": [
    "The StandardScaler & PCA (with num_components = 100) seems to be the best combination of preprocessing out of the 4 combinations."
   ]
  },
  {
   "cell_type": "code",
   "execution_count": null,
   "metadata": {},
   "outputs": [],
   "source": []
  }
 ],
 "metadata": {
  "kernelspec": {
   "display_name": "Python 3",
   "language": "python",
   "name": "python3"
  },
  "language_info": {
   "codemirror_mode": {
    "name": "ipython",
    "version": 3
   },
   "file_extension": ".py",
   "mimetype": "text/x-python",
   "name": "python",
   "nbconvert_exporter": "python",
   "pygments_lexer": "ipython3",
   "version": "3.8.5"
  }
 },
 "nbformat": 4,
 "nbformat_minor": 2
}
